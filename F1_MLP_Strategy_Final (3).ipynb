{
 "cells": [
  {
   "cell_type": "markdown",
   "id": "7a5e71a8",
   "metadata": {},
   "source": [
    "# F1 Race Strategy — **MLP Final** (Stable & Report-Ready)\n",
    "This notebook trains a robust **multi-task MLP** to predict:\n",
    "- **y1**: next stint length (regression)\n",
    "- **y2**: next tire compound (classification)\n",
    "\n",
    "What’s new vs earlier versions:\n",
    "- **Robust preprocessing** (replace ±Inf → NaN → impute; OHE for cats; scale nums)\n",
    "- **Stable MLP** (no BatchNorm/LayerNorm), **Xavier init**, **grad clipping**\n",
    "- **Class weighting** for y2, **early stopping** on Macro-F1, **ReduceLROnPlateau**\n",
    "- NaN-safe metrics, predictions table, artifact saving for Streamlit\n"
   ]
  },
  {
   "cell_type": "markdown",
   "id": "eb99f7ec",
   "metadata": {},
   "source": [
    "## 0) Optional installs (run if needed)"
   ]
  },
  {
   "cell_type": "code",
   "execution_count": null,
   "id": "3fb940df",
   "metadata": {},
   "outputs": [],
   "source": [
    "# %pip install --upgrade scikit-learn joblib --quiet\n",
    "# %pip install torch torchvision torchaudio --index-url https://download.pytorch.org/whl/cpu --quiet\n",
    "# %pip install streamlit --quiet"
   ]
  },
  {
   "cell_type": "markdown",
   "id": "d758b3e5",
   "metadata": {},
   "source": [
    "## 1) Imports & paths"
   ]
  },
  {
   "cell_type": "code",
   "execution_count": 1,
   "id": "2e841b2b",
   "metadata": {},
   "outputs": [],
   "source": [
    "import numpy as np, pandas as pd, joblib\n",
    "from sklearn.model_selection import GroupKFold\n",
    "from sklearn.preprocessing import OneHotEncoder, StandardScaler\n",
    "from sklearn.compose import ColumnTransformer\n",
    "from sklearn.pipeline import Pipeline\n",
    "from sklearn.impute import SimpleImputer\n",
    "from sklearn.metrics import mean_absolute_error, mean_squared_error, f1_score, confusion_matrix, top_k_accuracy_score\n",
    "from sklearn.utils.class_weight import compute_class_weight\n",
    "\n",
    "import torch, torch.nn as nn\n",
    "from torch.utils.data import Dataset, DataLoader\n",
    "\n"
   ]
  },
  {
   "cell_type": "markdown",
   "id": "85121b5a",
   "metadata": {},
   "source": [
    "## 2) Load data & select columns"
   ]
  },
  {
   "cell_type": "code",
   "execution_count": 3,
   "id": "a84dd74b",
   "metadata": {},
   "outputs": [
    {
     "data": {
      "text/plain": [
       "((4553, 23),\n",
       " ['HARD',\n",
       "  'HYPERSOFT',\n",
       "  'INTERMEDIATE',\n",
       "  'MEDIUM',\n",
       "  'SOFT',\n",
       "  'SUPERSOFT',\n",
       "  'ULTRASOFT',\n",
       "  'WET'])"
      ]
     },
     "execution_count": 3,
     "metadata": {},
     "output_type": "execute_result"
    }
   ],
   "source": [
    "df = pd.read_csv('f1_strategy_modeling_dataset.csv')\n",
    "CATS = [\"season\",\"circuit\",\"driver_code\",\"constructor\",\"tire_compound\"]\n",
    "NUMS = [\n",
    "    \"position\",\"stint\",\"stint_length\",\"pit_lap\",\"pit_time\",\n",
    "    \"air_temp_c\",\"track_temp_c\",\"humidity_pct\",\"wind_kmh\",\n",
    "    \"lap_time_variation\",\"tire_usage_aggr\",\"fast_lap_attempts\",\"position_changes\",\"driver_aggr_score\"\n",
    "]\n",
    "TARGETS = [\"y1_next_stint_length\",\"y2_next_compound\"]\n",
    "use_cols = CATS + NUMS + TARGETS + [\"race_key\"]\n",
    "df = df[use_cols].copy()\n",
    "\n",
    "# y2 must exist\n",
    "df = df.dropna(subset=[\"y2_next_compound\"]).reset_index(drop=True)\n",
    "y2_classes = sorted(df[\"y2_next_compound\"].astype(str).unique().tolist())\n",
    "df[\"y2_idx\"] = pd.Categorical(df[\"y2_next_compound\"], categories=y2_classes).codes\n",
    "df.shape, y2_classes"
   ]
  },
  {
   "cell_type": "markdown",
   "id": "c85a1a31",
   "metadata": {},
   "source": [
    "## 3) Leave-race-out split (fold 0) + robust preprocessing"
   ]
  },
  {
   "cell_type": "code",
   "execution_count": 5,
   "id": "fe96f1ca",
   "metadata": {},
   "outputs": [
    {
     "name": "stdout",
     "output_type": "stream",
     "text": [
      "X_train finite?  True\n",
      "X_val   finite?  True\n"
     ]
    }
   ],
   "source": [
    "gkf = GroupKFold(n_splits=5)\n",
    "splits = list(gkf.split(df.index.values, groups=df[\"race_key\"].values))\n",
    "train_df = df.iloc[splits[0][0]].reset_index(drop=True)\n",
    "val_df   = df.iloc[splits[0][1]].reset_index(drop=True)\n",
    "\n",
    "# Replace ±Inf in numerics with NaN first\n",
    "for d in (train_df, val_df):\n",
    "    d[NUMS] = d[NUMS].replace([np.inf, -np.inf], np.nan)\n",
    "\n",
    "try:\n",
    "    ohe = OneHotEncoder(handle_unknown=\"ignore\", sparse_output=False)\n",
    "except TypeError:\n",
    "    ohe = OneHotEncoder(handle_unknown=\"ignore\", sparse=False)\n",
    "\n",
    "cat_pipe = Pipeline([\n",
    "    (\"imputer\", SimpleImputer(strategy=\"most_frequent\")),\n",
    "    (\"ohe\", ohe),\n",
    "])\n",
    "num_pipe = Pipeline([\n",
    "    (\"imputer\", SimpleImputer(strategy=\"median\")),\n",
    "    (\"scaler\", StandardScaler()),\n",
    "])\n",
    "\n",
    "pre = ColumnTransformer([\n",
    "    (\"cat\", cat_pipe, CATS),\n",
    "    (\"num\", num_pipe, NUMS),\n",
    "])\n",
    "\n",
    "X_train = pre.fit_transform(train_df[CATS+NUMS])\n",
    "X_val   = pre.transform(val_df[CATS+NUMS])\n",
    "y1_tr = train_df[\"y1_next_stint_length\"].to_numpy(dtype=\"float32\")\n",
    "y1_va = val_df[\"y1_next_stint_length\"].to_numpy(dtype=\"float32\")\n",
    "y2_tr = train_df[\"y2_idx\"].to_numpy(dtype=\"int64\")\n",
    "y2_va = val_df[\"y2_idx\"].to_numpy(dtype=\"int64\")\n",
    "\n",
    "print(\"X_train finite? \", np.isfinite(X_train).all())\n",
    "print(\"X_val   finite? \", np.isfinite(X_val).all())"
   ]
  },
  {
   "cell_type": "markdown",
   "id": "a22191ad",
   "metadata": {},
   "source": [
    "## 4) Stable MLP (no Norm layers) + class weights"
   ]
  },
  {
   "cell_type": "code",
   "execution_count": 7,
   "id": "abe88f90",
   "metadata": {},
   "outputs": [],
   "source": [
    "cls_w = compute_class_weight(class_weight=\"balanced\", classes=np.arange(len(y2_classes)), y=y2_tr).astype(\"float32\")\n",
    "cls_w_t = torch.tensor(cls_w)\n",
    "\n",
    "class TabDS(Dataset):\n",
    "    def __init__(self, X, y1, y2):\n",
    "        self.X  = torch.from_numpy(X).float()\n",
    "        self.y1 = torch.from_numpy(y1).float()\n",
    "        self.y2 = torch.from_numpy(y2).long()\n",
    "    def __len__(self): return self.X.shape[0]\n",
    "    def __getitem__(self, i): return self.X[i], self.y1[i], self.y2[i]\n",
    "\n",
    "train_dl = DataLoader(TabDS(X_train, y1_tr, y2_tr), batch_size=512, shuffle=True, drop_last=True)\n",
    "Xv_t = torch.from_numpy(X_val).float()\n",
    "\n",
    "class MLPStable(nn.Module):\n",
    "    def __init__(self, in_dim, n_classes, p=0.30):\n",
    "        super().__init__()\n",
    "        self.net = nn.Sequential(\n",
    "            nn.Linear(in_dim, 512), nn.ReLU(), nn.Dropout(p),\n",
    "            nn.Linear(512, 256), nn.ReLU(), nn.Dropout(p),\n",
    "            nn.Linear(256, 128), nn.ReLU(), nn.Dropout(p),\n",
    "        )\n",
    "        self.h1 = nn.Linear(128, 1)          # y1\n",
    "        self.h2 = nn.Linear(128, n_classes)  # y2\n",
    "        for m in self.modules():\n",
    "            if isinstance(m, nn.Linear):\n",
    "                nn.init.xavier_uniform_(m.weight, gain=nn.init.calculate_gain('relu'))\n",
    "                nn.init.zeros_(m.bias)\n",
    "    def forward(self, x):\n",
    "        h = self.net(x)\n",
    "        return self.h1(h).squeeze(-1), self.h2(h)\n",
    "\n",
    "model = MLPStable(X_train.shape[1], len(y2_classes), p=0.30)\n",
    "opt = torch.optim.AdamW(model.parameters(), lr=5e-4, weight_decay=1e-4, eps=1e-8)\n",
    "reg_loss = nn.SmoothL1Loss(reduction=\"none\")\n",
    "cls_loss = nn.CrossEntropyLoss(weight=cls_w_t)\n",
    "scheduler = torch.optim.lr_scheduler.ReduceLROnPlateau(opt, mode=\"max\", factor=0.5, patience=2)"
   ]
  },
  {
   "cell_type": "markdown",
   "id": "4e9461b9",
   "metadata": {},
   "source": [
    "## 5) Train with early stopping (maximize val Macro-F1)"
   ]
  },
  {
   "cell_type": "code",
   "execution_count": 22,
   "id": "f70d0ddb-40a5-4433-a9fa-596d203a26a8",
   "metadata": {},
   "outputs": [],
   "source": [
    "from sklearn.metrics import accuracy_score, balanced_accuracy_score, top_k_accuracy_score\n",
    "\n",
    "history = {\n",
    "    \"epoch\": [],\n",
    "    \"train_loss\": [],\n",
    "    \"val_f1\": [],\n",
    "    \"val_acc\": [],\n",
    "    \"val_bacc\": [],\n",
    "    \"val_top2\": [],\n",
    "    \"val_mae\": [],\n",
    "    \"val_rmse\": [],\n",
    "}\n"
   ]
  },
  {
   "cell_type": "code",
   "execution_count": 24,
   "id": "4463bebd",
   "metadata": {},
   "outputs": [
    {
     "name": "stderr",
     "output_type": "stream",
     "text": [
      "C:\\Users\\ASUS\\anaconda3\\Lib\\site-packages\\sklearn\\metrics\\_regression.py:483: FutureWarning: 'squared' is deprecated in version 1.4 and will be removed in 1.6. To calculate the root mean squared error, use the function'root_mean_squared_error'.\n",
      "  warnings.warn(\n"
     ]
    },
    {
     "name": "stdout",
     "output_type": "stream",
     "text": [
      "Epoch 01 | train_loss=6.2273 | val_y2_MacroF1=0.341 | val_acc=0.484 | top2=0.752 | y1_MAE=5.36\n"
     ]
    },
    {
     "name": "stderr",
     "output_type": "stream",
     "text": [
      "C:\\Users\\ASUS\\anaconda3\\Lib\\site-packages\\sklearn\\metrics\\_regression.py:483: FutureWarning: 'squared' is deprecated in version 1.4 and will be removed in 1.6. To calculate the root mean squared error, use the function'root_mean_squared_error'.\n",
      "  warnings.warn(\n"
     ]
    },
    {
     "name": "stdout",
     "output_type": "stream",
     "text": [
      "Epoch 02 | train_loss=5.9936 | val_y2_MacroF1=0.339 | val_acc=0.480 | top2=0.751 | y1_MAE=5.42\n"
     ]
    },
    {
     "name": "stderr",
     "output_type": "stream",
     "text": [
      "C:\\Users\\ASUS\\anaconda3\\Lib\\site-packages\\sklearn\\metrics\\_regression.py:483: FutureWarning: 'squared' is deprecated in version 1.4 and will be removed in 1.6. To calculate the root mean squared error, use the function'root_mean_squared_error'.\n",
      "  warnings.warn(\n"
     ]
    },
    {
     "name": "stdout",
     "output_type": "stream",
     "text": [
      "Epoch 03 | train_loss=6.0270 | val_y2_MacroF1=0.340 | val_acc=0.481 | top2=0.748 | y1_MAE=5.32\n"
     ]
    },
    {
     "name": "stderr",
     "output_type": "stream",
     "text": [
      "C:\\Users\\ASUS\\anaconda3\\Lib\\site-packages\\sklearn\\metrics\\_regression.py:483: FutureWarning: 'squared' is deprecated in version 1.4 and will be removed in 1.6. To calculate the root mean squared error, use the function'root_mean_squared_error'.\n",
      "  warnings.warn(\n"
     ]
    },
    {
     "name": "stdout",
     "output_type": "stream",
     "text": [
      "Epoch 04 | train_loss=6.0316 | val_y2_MacroF1=0.346 | val_acc=0.486 | top2=0.749 | y1_MAE=5.23\n"
     ]
    },
    {
     "name": "stderr",
     "output_type": "stream",
     "text": [
      "C:\\Users\\ASUS\\anaconda3\\Lib\\site-packages\\sklearn\\metrics\\_regression.py:483: FutureWarning: 'squared' is deprecated in version 1.4 and will be removed in 1.6. To calculate the root mean squared error, use the function'root_mean_squared_error'.\n",
      "  warnings.warn(\n"
     ]
    },
    {
     "name": "stdout",
     "output_type": "stream",
     "text": [
      "Epoch 05 | train_loss=5.8665 | val_y2_MacroF1=0.335 | val_acc=0.486 | top2=0.747 | y1_MAE=5.25\n"
     ]
    },
    {
     "name": "stderr",
     "output_type": "stream",
     "text": [
      "C:\\Users\\ASUS\\anaconda3\\Lib\\site-packages\\sklearn\\metrics\\_regression.py:483: FutureWarning: 'squared' is deprecated in version 1.4 and will be removed in 1.6. To calculate the root mean squared error, use the function'root_mean_squared_error'.\n",
      "  warnings.warn(\n"
     ]
    },
    {
     "name": "stdout",
     "output_type": "stream",
     "text": [
      "Epoch 06 | train_loss=6.0010 | val_y2_MacroF1=0.338 | val_acc=0.487 | top2=0.753 | y1_MAE=5.30\n"
     ]
    },
    {
     "name": "stderr",
     "output_type": "stream",
     "text": [
      "C:\\Users\\ASUS\\anaconda3\\Lib\\site-packages\\sklearn\\metrics\\_regression.py:483: FutureWarning: 'squared' is deprecated in version 1.4 and will be removed in 1.6. To calculate the root mean squared error, use the function'root_mean_squared_error'.\n",
      "  warnings.warn(\n"
     ]
    },
    {
     "name": "stdout",
     "output_type": "stream",
     "text": [
      "Epoch 07 | train_loss=5.9057 | val_y2_MacroF1=0.326 | val_acc=0.482 | top2=0.756 | y1_MAE=5.22\n"
     ]
    },
    {
     "name": "stderr",
     "output_type": "stream",
     "text": [
      "C:\\Users\\ASUS\\anaconda3\\Lib\\site-packages\\sklearn\\metrics\\_regression.py:483: FutureWarning: 'squared' is deprecated in version 1.4 and will be removed in 1.6. To calculate the root mean squared error, use the function'root_mean_squared_error'.\n",
      "  warnings.warn(\n"
     ]
    },
    {
     "name": "stdout",
     "output_type": "stream",
     "text": [
      "Epoch 08 | train_loss=5.9468 | val_y2_MacroF1=0.325 | val_acc=0.481 | top2=0.756 | y1_MAE=5.26\n"
     ]
    },
    {
     "name": "stderr",
     "output_type": "stream",
     "text": [
      "C:\\Users\\ASUS\\anaconda3\\Lib\\site-packages\\sklearn\\metrics\\_regression.py:483: FutureWarning: 'squared' is deprecated in version 1.4 and will be removed in 1.6. To calculate the root mean squared error, use the function'root_mean_squared_error'.\n",
      "  warnings.warn(\n"
     ]
    },
    {
     "name": "stdout",
     "output_type": "stream",
     "text": [
      "Epoch 09 | train_loss=5.8794 | val_y2_MacroF1=0.324 | val_acc=0.479 | top2=0.752 | y1_MAE=5.28\n",
      "Epoch 10 | train_loss=5.9614 | val_y2_MacroF1=0.328 | val_acc=0.480 | top2=0.748 | y1_MAE=5.24\n",
      "Early stopping.\n"
     ]
    },
    {
     "name": "stderr",
     "output_type": "stream",
     "text": [
      "C:\\Users\\ASUS\\anaconda3\\Lib\\site-packages\\sklearn\\metrics\\_regression.py:483: FutureWarning: 'squared' is deprecated in version 1.4 and will be removed in 1.6. To calculate the root mean squared error, use the function'root_mean_squared_error'.\n",
      "  warnings.warn(\n"
     ]
    }
   ],
   "source": [
    "EPOCHS = 40\n",
    "patience, bad = 6, 0\n",
    "best = {\"score\": -1, \"state\": None}\n",
    "\n",
    "for ep in range(1, EPOCHS+1):\n",
    "    # -------- train --------\n",
    "    model.train(); total = 0.0\n",
    "    for xb, y1b, y2b in train_dl:\n",
    "        p1, p2 = model(xb)\n",
    "        m = ~torch.isnan(y1b)\n",
    "        loss_reg = reg_loss(p1[m], y1b[m]).mean() if m.any() else torch.tensor(0.0)\n",
    "        loss_cls = cls_loss(p2, y2b)\n",
    "        loss = loss_reg + loss_cls\n",
    "        if torch.isnan(loss) or torch.isinf(loss):\n",
    "            continue\n",
    "        opt.zero_grad(); loss.backward()\n",
    "        nn.utils.clip_grad_norm_(model.parameters(), max_norm=1.0)\n",
    "        opt.step()\n",
    "        total += loss.item() * xb.size(0)\n",
    "\n",
    "    # -------- validate --------\n",
    "    model.eval()\n",
    "    with torch.no_grad():\n",
    "        p1_v, p2_v = model(Xv_t)\n",
    "        probs_v = torch.softmax(p2_v, dim=1).detach().cpu().numpy()\n",
    "        y2_pred = probs_v.argmax(1)\n",
    "\n",
    "    # y2 metrics\n",
    "    val_f1   = float(f1_score(y2_va, y2_pred, average=\"macro\"))\n",
    "    val_acc  = float(accuracy_score(y2_va, y2_pred))\n",
    "    val_bacc = float(balanced_accuracy_score(y2_va, y2_pred))\n",
    "    val_top2 = float(top_k_accuracy_score(y2_va, probs_v, k=2))\n",
    "\n",
    "    # y1 metrics\n",
    "    y1_pred = p1_v.detach().cpu().numpy()\n",
    "    mask = np.isfinite(y1_va) & np.isfinite(y1_pred)\n",
    "    val_mae  = float(mean_absolute_error(y1_va[mask], y1_pred[mask])) if mask.any() else np.nan\n",
    "    val_rmse = float(mean_squared_error(y1_va[mask], y1_pred[mask], squared=False)) if mask.any() else np.nan\n",
    "\n",
    "    scheduler.step(val_f1)\n",
    "\n",
    "    # log\n",
    "    history[\"epoch\"].append(ep)\n",
    "    history[\"train_loss\"].append(total/len(train_dl.dataset))\n",
    "    history[\"val_f1\"].append(val_f1)\n",
    "    history[\"val_acc\"].append(val_acc)\n",
    "    history[\"val_bacc\"].append(val_bacc)\n",
    "    history[\"val_top2\"].append(val_top2)\n",
    "    history[\"val_mae\"].append(val_mae)\n",
    "    history[\"val_rmse\"].append(val_rmse)\n",
    "\n",
    "    print(f\"Epoch {ep:02d} | train_loss={history['train_loss'][-1]:.4f} | \"\n",
    "          f\"val_y2_MacroF1={val_f1:.3f} | val_acc={val_acc:.3f} | top2={val_top2:.3f} | \"\n",
    "          f\"y1_MAE={val_mae:.2f}\")\n",
    "\n",
    "    # early stop on F1\n",
    "    if val_f1 > best[\"score\"] and not np.isnan(val_f1):\n",
    "        best[\"score\"] = val_f1\n",
    "        best[\"state\"] = {k: v.detach().cpu().clone() for k,v in model.state_dict().items()}\n",
    "        bad = 0\n",
    "    else:\n",
    "        bad += 1\n",
    "        if bad >= patience:\n",
    "            print(\"Early stopping.\")\n",
    "            break\n",
    "\n",
    "# restore best\n",
    "if best[\"state\"] is not None:\n",
    "    model.load_state_dict(best[\"state\"])\n"
   ]
  },
  {
   "cell_type": "markdown",
   "id": "daedbf3e",
   "metadata": {},
   "source": [
    "## 6) Final evaluation + predictions table"
   ]
  },
  {
   "cell_type": "code",
   "execution_count": 11,
   "id": "c37a28aa",
   "metadata": {},
   "outputs": [
    {
     "name": "stderr",
     "output_type": "stream",
     "text": [
      "C:\\Users\\ASUS\\anaconda3\\Lib\\site-packages\\sklearn\\metrics\\_regression.py:483: FutureWarning: 'squared' is deprecated in version 1.4 and will be removed in 1.6. To calculate the root mean squared error, use the function'root_mean_squared_error'.\n",
      "  warnings.warn(\n"
     ]
    },
    {
     "name": "stdout",
     "output_type": "stream",
     "text": [
      "y1 → MAE: 5.258 | RMSE: 7.459\n",
      "y2 → Macro-F1: 0.337 | Top-2 Acc: 0.755\n"
     ]
    },
    {
     "data": {
      "image/png": "[encoded data removed]",
      "text/plain": [
       "<Figure size 640x480 with 2 Axes>"
      ]
     },
     "metadata": {},
     "output_type": "display_data"
    },
    {
     "data": {
      "text/html": [
       "<div>\n",
       "<style scoped>\n",
       "    .dataframe tbody tr th:only-of-type {\n",
       "        vertical-align: middle;\n",
       "    }\n",
       "\n",
       "    .dataframe tbody tr th {\n",
       "        vertical-align: top;\n",
       "    }\n",
       "\n",
       "    .dataframe thead th {\n",
       "        text-align: right;\n",
       "    }\n",
       "</style>\n",
       "<table border=\"1\" class=\"dataframe\">\n",
       "  <thead>\n",
       "    <tr style=\"text-align: right;\">\n",
       "      <th></th>\n",
       "      <th>y1_true_next_stint_len</th>\n",
       "      <th>y1_pred_next_stint_len</th>\n",
       "      <th>y1_abs_error</th>\n",
       "      <th>y2_true</th>\n",
       "      <th>y2_pred</th>\n",
       "      <th>y2_top2</th>\n",
       "    </tr>\n",
       "  </thead>\n",
       "  <tbody>\n",
       "    <tr>\n",
       "      <th>0</th>\n",
       "      <td>24.0</td>\n",
       "      <td>28.128773</td>\n",
       "      <td>4.128773</td>\n",
       "      <td>SOFT</td>\n",
       "      <td>ULTRASOFT</td>\n",
       "      <td>[ULTRASOFT, SUPERSOFT]</td>\n",
       "    </tr>\n",
       "    <tr>\n",
       "      <th>1</th>\n",
       "      <td>20.0</td>\n",
       "      <td>23.351589</td>\n",
       "      <td>3.351589</td>\n",
       "      <td>MEDIUM</td>\n",
       "      <td>ULTRASOFT</td>\n",
       "      <td>[ULTRASOFT, SUPERSOFT]</td>\n",
       "    </tr>\n",
       "    <tr>\n",
       "      <th>2</th>\n",
       "      <td>31.0</td>\n",
       "      <td>14.305940</td>\n",
       "      <td>16.694061</td>\n",
       "      <td>MEDIUM</td>\n",
       "      <td>SUPERSOFT</td>\n",
       "      <td>[SUPERSOFT, MEDIUM]</td>\n",
       "    </tr>\n",
       "    <tr>\n",
       "      <th>3</th>\n",
       "      <td>4.0</td>\n",
       "      <td>9.305952</td>\n",
       "      <td>5.305952</td>\n",
       "      <td>SOFT</td>\n",
       "      <td>SUPERSOFT</td>\n",
       "      <td>[SUPERSOFT, HYPERSOFT]</td>\n",
       "    </tr>\n",
       "    <tr>\n",
       "      <th>4</th>\n",
       "      <td>30.0</td>\n",
       "      <td>33.002941</td>\n",
       "      <td>3.002941</td>\n",
       "      <td>MEDIUM</td>\n",
       "      <td>ULTRASOFT</td>\n",
       "      <td>[ULTRASOFT, MEDIUM]</td>\n",
       "    </tr>\n",
       "    <tr>\n",
       "      <th>5</th>\n",
       "      <td>27.0</td>\n",
       "      <td>32.969608</td>\n",
       "      <td>5.969608</td>\n",
       "      <td>MEDIUM</td>\n",
       "      <td>ULTRASOFT</td>\n",
       "      <td>[ULTRASOFT, MEDIUM]</td>\n",
       "    </tr>\n",
       "    <tr>\n",
       "      <th>6</th>\n",
       "      <td>26.0</td>\n",
       "      <td>26.797668</td>\n",
       "      <td>0.797668</td>\n",
       "      <td>MEDIUM</td>\n",
       "      <td>ULTRASOFT</td>\n",
       "      <td>[ULTRASOFT, MEDIUM]</td>\n",
       "    </tr>\n",
       "    <tr>\n",
       "      <th>7</th>\n",
       "      <td>6.0</td>\n",
       "      <td>1.816979</td>\n",
       "      <td>4.183021</td>\n",
       "      <td>MEDIUM</td>\n",
       "      <td>WET</td>\n",
       "      <td>[WET, INTERMEDIATE]</td>\n",
       "    </tr>\n",
       "    <tr>\n",
       "      <th>8</th>\n",
       "      <td>36.0</td>\n",
       "      <td>36.241531</td>\n",
       "      <td>0.241531</td>\n",
       "      <td>MEDIUM</td>\n",
       "      <td>ULTRASOFT</td>\n",
       "      <td>[ULTRASOFT, MEDIUM]</td>\n",
       "    </tr>\n",
       "    <tr>\n",
       "      <th>9</th>\n",
       "      <td>25.0</td>\n",
       "      <td>17.252998</td>\n",
       "      <td>7.747002</td>\n",
       "      <td>MEDIUM</td>\n",
       "      <td>SUPERSOFT</td>\n",
       "      <td>[SUPERSOFT, ULTRASOFT]</td>\n",
       "    </tr>\n",
       "    <tr>\n",
       "      <th>10</th>\n",
       "      <td>13.0</td>\n",
       "      <td>15.280109</td>\n",
       "      <td>2.280109</td>\n",
       "      <td>SUPERSOFT</td>\n",
       "      <td>ULTRASOFT</td>\n",
       "      <td>[ULTRASOFT, SOFT]</td>\n",
       "    </tr>\n",
       "    <tr>\n",
       "      <th>11</th>\n",
       "      <td>29.0</td>\n",
       "      <td>32.004456</td>\n",
       "      <td>3.004456</td>\n",
       "      <td>MEDIUM</td>\n",
       "      <td>ULTRASOFT</td>\n",
       "      <td>[ULTRASOFT, SUPERSOFT]</td>\n",
       "    </tr>\n",
       "    <tr>\n",
       "      <th>12</th>\n",
       "      <td>47.0</td>\n",
       "      <td>40.398930</td>\n",
       "      <td>6.601070</td>\n",
       "      <td>MEDIUM</td>\n",
       "      <td>ULTRASOFT</td>\n",
       "      <td>[ULTRASOFT, MEDIUM]</td>\n",
       "    </tr>\n",
       "    <tr>\n",
       "      <th>13</th>\n",
       "      <td>32.0</td>\n",
       "      <td>34.703777</td>\n",
       "      <td>2.703777</td>\n",
       "      <td>SOFT</td>\n",
       "      <td>ULTRASOFT</td>\n",
       "      <td>[ULTRASOFT, MEDIUM]</td>\n",
       "    </tr>\n",
       "    <tr>\n",
       "      <th>14</th>\n",
       "      <td>7.0</td>\n",
       "      <td>18.290394</td>\n",
       "      <td>11.290394</td>\n",
       "      <td>SOFT</td>\n",
       "      <td>ULTRASOFT</td>\n",
       "      <td>[ULTRASOFT, HARD]</td>\n",
       "    </tr>\n",
       "    <tr>\n",
       "      <th>15</th>\n",
       "      <td>23.0</td>\n",
       "      <td>27.302628</td>\n",
       "      <td>4.302628</td>\n",
       "      <td>SOFT</td>\n",
       "      <td>ULTRASOFT</td>\n",
       "      <td>[ULTRASOFT, MEDIUM]</td>\n",
       "    </tr>\n",
       "    <tr>\n",
       "      <th>16</th>\n",
       "      <td>24.0</td>\n",
       "      <td>29.542608</td>\n",
       "      <td>5.542608</td>\n",
       "      <td>MEDIUM</td>\n",
       "      <td>ULTRASOFT</td>\n",
       "      <td>[ULTRASOFT, SUPERSOFT]</td>\n",
       "    </tr>\n",
       "    <tr>\n",
       "      <th>17</th>\n",
       "      <td>27.0</td>\n",
       "      <td>32.630890</td>\n",
       "      <td>5.630890</td>\n",
       "      <td>SOFT</td>\n",
       "      <td>ULTRASOFT</td>\n",
       "      <td>[ULTRASOFT, MEDIUM]</td>\n",
       "    </tr>\n",
       "    <tr>\n",
       "      <th>18</th>\n",
       "      <td>29.0</td>\n",
       "      <td>34.246914</td>\n",
       "      <td>5.246914</td>\n",
       "      <td>SOFT</td>\n",
       "      <td>MEDIUM</td>\n",
       "      <td>[MEDIUM, SUPERSOFT]</td>\n",
       "    </tr>\n",
       "    <tr>\n",
       "      <th>19</th>\n",
       "      <td>30.0</td>\n",
       "      <td>32.967739</td>\n",
       "      <td>2.967739</td>\n",
       "      <td>MEDIUM</td>\n",
       "      <td>ULTRASOFT</td>\n",
       "      <td>[ULTRASOFT, MEDIUM]</td>\n",
       "    </tr>\n",
       "  </tbody>\n",
       "</table>\n",
       "</div>"
      ],
      "text/plain": [
       "    y1_true_next_stint_len  y1_pred_next_stint_len  y1_abs_error    y2_true  \\\n",
       "0                     24.0               28.128773      4.128773       SOFT   \n",
       "1                     20.0               23.351589      3.351589     MEDIUM   \n",
       "2                     31.0               14.305940     16.694061     MEDIUM   \n",
       "3                      4.0                9.305952      5.305952       SOFT   \n",
       "4                     30.0               33.002941      3.002941     MEDIUM   \n",
       "5                     27.0               32.969608      5.969608     MEDIUM   \n",
       "6                     26.0               26.797668      0.797668     MEDIUM   \n",
       "7                      6.0                1.816979      4.183021     MEDIUM   \n",
       "8                     36.0               36.241531      0.241531     MEDIUM   \n",
       "9                     25.0               17.252998      7.747002     MEDIUM   \n",
       "10                    13.0               15.280109      2.280109  SUPERSOFT   \n",
       "11                    29.0               32.004456      3.004456     MEDIUM   \n",
       "12                    47.0               40.398930      6.601070     MEDIUM   \n",
       "13                    32.0               34.703777      2.703777       SOFT   \n",
       "14                     7.0               18.290394     11.290394       SOFT   \n",
       "15                    23.0               27.302628      4.302628       SOFT   \n",
       "16                    24.0               29.542608      5.542608     MEDIUM   \n",
       "17                    27.0               32.630890      5.630890       SOFT   \n",
       "18                    29.0               34.246914      5.246914       SOFT   \n",
       "19                    30.0               32.967739      2.967739     MEDIUM   \n",
       "\n",
       "      y2_pred                 y2_top2  \n",
       "0   ULTRASOFT  [ULTRASOFT, SUPERSOFT]  \n",
       "1   ULTRASOFT  [ULTRASOFT, SUPERSOFT]  \n",
       "2   SUPERSOFT     [SUPERSOFT, MEDIUM]  \n",
       "3   SUPERSOFT  [SUPERSOFT, HYPERSOFT]  \n",
       "4   ULTRASOFT     [ULTRASOFT, MEDIUM]  \n",
       "5   ULTRASOFT     [ULTRASOFT, MEDIUM]  \n",
       "6   ULTRASOFT     [ULTRASOFT, MEDIUM]  \n",
       "7         WET     [WET, INTERMEDIATE]  \n",
       "8   ULTRASOFT     [ULTRASOFT, MEDIUM]  \n",
       "9   SUPERSOFT  [SUPERSOFT, ULTRASOFT]  \n",
       "10  ULTRASOFT       [ULTRASOFT, SOFT]  \n",
       "11  ULTRASOFT  [ULTRASOFT, SUPERSOFT]  \n",
       "12  ULTRASOFT     [ULTRASOFT, MEDIUM]  \n",
       "13  ULTRASOFT     [ULTRASOFT, MEDIUM]  \n",
       "14  ULTRASOFT       [ULTRASOFT, HARD]  \n",
       "15  ULTRASOFT     [ULTRASOFT, MEDIUM]  \n",
       "16  ULTRASOFT  [ULTRASOFT, SUPERSOFT]  \n",
       "17  ULTRASOFT     [ULTRASOFT, MEDIUM]  \n",
       "18     MEDIUM     [MEDIUM, SUPERSOFT]  \n",
       "19  ULTRASOFT     [ULTRASOFT, MEDIUM]  "
      ]
     },
     "execution_count": 11,
     "metadata": {},
     "output_type": "execute_result"
    }
   ],
   "source": [
    "import matplotlib.pyplot as plt\n",
    "model.eval()\n",
    "with torch.no_grad():\n",
    "    p1, p2 = model(Xv_t)\n",
    "y1_pred = p1.detach().cpu().numpy()\n",
    "probs   = torch.softmax(p2, dim=1).detach().cpu().numpy()\n",
    "y2_pred = probs.argmax(1)\n",
    "\n",
    "mask = np.isfinite(y1_va) & np.isfinite(y1_pred)\n",
    "y1_mae  = float(mean_absolute_error(y1_va[mask], y1_pred[mask])) if mask.any() else np.nan\n",
    "y1_rmse = float(mean_squared_error(y1_va[mask], y1_pred[mask], squared=False)) if mask.any() else np.nan\n",
    "y2_f1   = float(f1_score(y2_va, y2_pred, average=\"macro\"))\n",
    "top2    = float(top_k_accuracy_score(y2_va, probs, k=2))\n",
    "print(f\"y1 → MAE: {y1_mae:.3f} | RMSE: {y1_rmse:.3f}\")\n",
    "print(f\"y2 → Macro-F1: {y2_f1:.3f} | Top-2 Acc: {top2:.3f}\")\n",
    "\n",
    "cm = confusion_matrix(y2_va, y2_pred, labels=list(range(len(y2_classes))))\n",
    "plt.figure(); plt.imshow(cm, interpolation='nearest'); plt.title('y2 Confusion Matrix (Fold 0)')\n",
    "plt.xlabel('Predicted'); plt.ylabel('True')\n",
    "plt.xticks(range(len(y2_classes)), y2_classes, rotation=45, ha='right'); plt.yticks(range(len(y2_classes)), y2_classes)\n",
    "plt.colorbar(); plt.tight_layout(); plt.show()\n",
    "\n",
    "pred_df = pd.DataFrame({\n",
    "    \"y1_true_next_stint_len\": y1_va,\n",
    "    \"y1_pred_next_stint_len\": y1_pred,\n",
    "    \"y1_abs_error\": np.abs(y1_pred - y1_va),\n",
    "    \"y2_true\": [y2_classes[i] for i in y2_va],\n",
    "    \"y2_pred\": [y2_classes[i] for i in y2_pred],\n",
    "    \"y2_top2\": [[y2_classes[j] for j in probs[i].argsort()[-2:][::-1]] for i in range(len(probs))],\n",
    "})\n",
    "pred_df.head(20)"
   ]
  },
  {
   "cell_type": "code",
   "execution_count": 26,
   "id": "9d0973cd-b838-4bce-a266-7cb8519053bb",
   "metadata": {},
   "outputs": [
    {
     "data": {
      "image/png": "[encoded data removed]",
      "text/plain": [
       "<Figure size 1200x400 with 3 Axes>"
      ]
     },
     "metadata": {},
     "output_type": "display_data"
    },
    {
     "name": "stdout",
     "output_type": "stream",
     "text": [
      "Best epoch by Macro-F1: 4  (Macro-F1=0.346)\n"
     ]
    }
   ],
   "source": [
    "import matplotlib.pyplot as plt\n",
    "import numpy as np\n",
    "\n",
    "ep = np.array(history[\"epoch\"])\n",
    "\n",
    "# helper to mark best epoch (by Macro-F1)\n",
    "best_idx = int(np.argmax(history[\"val_f1\"]))\n",
    "best_ep = history[\"epoch\"][best_idx]\n",
    "\n",
    "plt.figure(figsize=(12,4))\n",
    "plt.subplot(1,3,1)\n",
    "plt.plot(ep, history[\"train_loss\"], label=\"Train loss\")\n",
    "plt.axvline(best_ep, linestyle=\"--\")\n",
    "plt.title(\"Training loss\"); plt.xlabel(\"Epoch\"); plt.ylabel(\"Loss\"); plt.legend()\n",
    "\n",
    "plt.subplot(1,3,2)\n",
    "plt.plot(ep, history[\"val_acc\"], label=\"Top-1 Acc\")\n",
    "plt.plot(ep, history[\"val_top2\"], label=\"Top-2 Acc\")\n",
    "plt.axvline(best_ep, linestyle=\"--\")\n",
    "plt.title(\"y₂ Accuracy\"); plt.xlabel(\"Epoch\"); plt.ylabel(\"Accuracy\"); plt.legend()\n",
    "\n",
    "plt.subplot(1,3,3)\n",
    "plt.plot(ep, history[\"val_f1\"], label=\"Macro-F1\")\n",
    "plt.plot(ep, history[\"val_bacc\"], label=\"Balanced Acc\")\n",
    "plt.axvline(best_ep, linestyle=\"--\")\n",
    "plt.title(\"y₂ Macro metrics\"); plt.xlabel(\"Epoch\"); plt.ylabel(\"Score\"); plt.legend()\n",
    "\n",
    "plt.tight_layout()\n",
    "plt.show()s\n",
    "\n",
    "print(f\"Best epoch by Macro-F1: {best_ep}  (Macro-F1={history['val_f1'][best_idx]:.3f})\")\n"
   ]
  },
  {
   "cell_type": "markdown",
   "id": "01aabe65",
   "metadata": {},
   "source": [
    "## 7) Save artifacts for Streamlit"
   ]
  },
  {
   "cell_type": "code",
   "execution_count": 13,
   "id": "e29a23b3",
   "metadata": {},
   "outputs": [
    {
     "name": "stdout",
     "output_type": "stream",
     "text": [
      "Saved: preprocessor.joblib, mlp_fold0.pt, mlp_fold0_val_predictions.csv\n"
     ]
    }
   ],
   "source": [
    "joblib.dump(pre, \"preprocessor.joblib\")\n",
    "torch.save({\n",
    "    \"state_dict\": model.state_dict(),\n",
    "    \"input_dim\": X_train.shape[1],\n",
    "    \"y2_classes\": y2_classes\n",
    "}, \"mlp_fold0.pt\")\n",
    "pred_df.to_csv(\"mlp_fold0_val_predictions.csv\", index=False)\n",
    "print(\"Saved: preprocessor.joblib, mlp_fold0.pt, mlp_fold0_val_predictions.csv\")"
   ]
  },
  {
   "cell_type": "markdown",
   "id": "2373881f",
   "metadata": {},
   "source": [
    "## 8) (Optional) 5-fold CV (stable variant)"
   ]
  },
  {
   "cell_type": "code",
   "execution_count": 15,
   "id": "66fb1aff",
   "metadata": {},
   "outputs": [
    {
     "name": "stdout",
     "output_type": "stream",
     "text": [
      "Fold 0...\n"
     ]
    },
    {
     "name": "stderr",
     "output_type": "stream",
     "text": [
      "C:\\Users\\ASUS\\anaconda3\\Lib\\site-packages\\sklearn\\metrics\\_regression.py:483: FutureWarning: 'squared' is deprecated in version 1.4 and will be removed in 1.6. To calculate the root mean squared error, use the function'root_mean_squared_error'.\n",
      "  warnings.warn(\n"
     ]
    },
    {
     "name": "stdout",
     "output_type": "stream",
     "text": [
      "Fold 1...\n"
     ]
    },
    {
     "name": "stderr",
     "output_type": "stream",
     "text": [
      "C:\\Users\\ASUS\\anaconda3\\Lib\\site-packages\\sklearn\\metrics\\_regression.py:483: FutureWarning: 'squared' is deprecated in version 1.4 and will be removed in 1.6. To calculate the root mean squared error, use the function'root_mean_squared_error'.\n",
      "  warnings.warn(\n"
     ]
    },
    {
     "name": "stdout",
     "output_type": "stream",
     "text": [
      "Fold 2...\n"
     ]
    },
    {
     "name": "stderr",
     "output_type": "stream",
     "text": [
      "C:\\Users\\ASUS\\anaconda3\\Lib\\site-packages\\sklearn\\metrics\\_regression.py:483: FutureWarning: 'squared' is deprecated in version 1.4 and will be removed in 1.6. To calculate the root mean squared error, use the function'root_mean_squared_error'.\n",
      "  warnings.warn(\n"
     ]
    },
    {
     "name": "stdout",
     "output_type": "stream",
     "text": [
      "Fold 3...\n"
     ]
    },
    {
     "name": "stderr",
     "output_type": "stream",
     "text": [
      "C:\\Users\\ASUS\\anaconda3\\Lib\\site-packages\\sklearn\\metrics\\_regression.py:483: FutureWarning: 'squared' is deprecated in version 1.4 and will be removed in 1.6. To calculate the root mean squared error, use the function'root_mean_squared_error'.\n",
      "  warnings.warn(\n"
     ]
    },
    {
     "name": "stdout",
     "output_type": "stream",
     "text": [
      "Fold 4...\n",
      "\n",
      "FOLD METRICS [MAE, RMSE, Macro-F1]:\n",
      " [[ 5.56326103  7.71375465  0.30549504]\n",
      " [ 5.90533304  7.58396292  0.28942484]\n",
      " [ 5.53651667  7.72244501  0.34787133]\n",
      " [ 5.92678213  7.82371712  0.29171876]\n",
      " [ 9.16590118 11.96439266  0.32157867]]\n",
      "\n",
      "MEAN ± STD:\n",
      "MAE   : 6.420 ± 1.383\n",
      "RMSE  : 8.562 ± 1.703\n",
      "F1    : 0.311 ± 0.022\n"
     ]
    },
    {
     "name": "stderr",
     "output_type": "stream",
     "text": [
      "C:\\Users\\ASUS\\anaconda3\\Lib\\site-packages\\sklearn\\metrics\\_regression.py:483: FutureWarning: 'squared' is deprecated in version 1.4 and will be removed in 1.6. To calculate the root mean squared error, use the function'root_mean_squared_error'.\n",
      "  warnings.warn(\n"
     ]
    }
   ],
   "source": [
    "def run_fold(train_idx, val_idx):\n",
    "    tr = df.iloc[train_idx].reset_index(drop=True)\n",
    "    va = df.iloc[val_idx].reset_index(drop=True)\n",
    "    for d in (tr, va):\n",
    "        d[NUMS] = d[NUMS].replace([np.inf, -np.inf], np.nan)\n",
    "    try:\n",
    "        ohe = OneHotEncoder(handle_unknown='ignore', sparse_output=False)\n",
    "    except TypeError:\n",
    "        ohe = OneHotEncoder(handle_unknown='ignore', sparse=False)\n",
    "    cat_pipe = Pipeline([('imputer', SimpleImputer(strategy='most_frequent')), ('ohe', ohe)])\n",
    "    num_pipe = Pipeline([('imputer', SimpleImputer(strategy='median')), ('scaler', StandardScaler())])\n",
    "    pre = ColumnTransformer([('cat', cat_pipe, CATS), ('num', num_pipe, NUMS)])\n",
    "    Xtr = pre.fit_transform(tr[CATS+NUMS])\n",
    "    Xva = pre.transform(va[CATS+NUMS])\n",
    "    y1_tr = tr['y1_next_stint_length'].to_numpy(dtype='float32')\n",
    "    y1_va = va['y1_next_stint_length'].to_numpy(dtype='float32')\n",
    "    y2_tr = tr['y2_idx'].to_numpy(dtype='int64')\n",
    "    y2_va = va['y2_idx'].to_numpy(dtype='int64')\n",
    "    cls_w = compute_class_weight('balanced', classes=np.arange(len(y2_classes)), y=y2_tr).astype('float32')\n",
    "    cls_w_t = torch.tensor(cls_w)\n",
    "    dl = DataLoader(TabDS(Xtr, y1_tr, y2_tr), batch_size=512, shuffle=True, drop_last=True)\n",
    "    Xva_t = torch.from_numpy(Xva).float()\n",
    "    mdl = MLPStable(Xtr.shape[1], len(y2_classes))\n",
    "    opt = torch.optim.AdamW(mdl.parameters(), lr=5e-4, weight_decay=1e-4, eps=1e-8)\n",
    "    reg = nn.SmoothL1Loss(reduction='none'); cls = nn.CrossEntropyLoss(weight=cls_w_t)\n",
    "    best = {'score': -1, 'state': None}\n",
    "    for ep in range(20):\n",
    "        mdl.train()\n",
    "        for xb, y1b, y2b in dl:\n",
    "            p1, p2 = mdl(xb); m = ~torch.isnan(y1b)\n",
    "            loss = (reg(p1[m], y1b[m]).mean() if m.any() else 0.0) + cls(p2, y2b)\n",
    "            if torch.isnan(loss) or torch.isinf(loss):\n",
    "                continue\n",
    "            opt.zero_grad(); loss.backward(); nn.utils.clip_grad_norm_(mdl.parameters(), 1.0); opt.step()\n",
    "        mdl.eval();\n",
    "        with torch.no_grad(): _, p2v = mdl(Xva_t)\n",
    "        f1 = float(f1_score(y2_va, p2v.argmax(-1).numpy(), average='macro'))\n",
    "        if f1 > best['score'] and not np.isnan(f1):\n",
    "            best['score'] = f1\n",
    "            best['state'] = {k: v.detach().cpu().clone() for k,v in mdl.state_dict().items()}\n",
    "    if best['state'] is not None:\n",
    "        mdl.load_state_dict(best['state'])\n",
    "    with torch.no_grad(): p1v, p2v = mdl(Xva_t)\n",
    "    p1_np = p1v.numpy(); mask = np.isfinite(y1_va) & np.isfinite(p1_np)\n",
    "    y1_mae = float(mean_absolute_error(y1_va[mask], p1_np[mask])) if mask.any() else np.nan\n",
    "    y1_rmse = float(mean_squared_error(y1_va[mask], p1_np[mask], squared=False)) if mask.any() else np.nan\n",
    "    y2_f1 = float(f1_score(y2_va, p2v.argmax(-1).numpy(), average='macro'))\n",
    "    return y1_mae, y1_rmse, y2_f1\n",
    "\n",
    "fold_metrics = []\n",
    "for k,(tri,vai) in enumerate(gkf.split(df.index.values, groups=df['race_key'].values)):\n",
    "    print(f\"Fold {k}...\"); fold_metrics.append(run_fold(tri, vai))\n",
    "arr = np.array(fold_metrics, dtype=float)\n",
    "print(\"\\nFOLD METRICS [MAE, RMSE, Macro-F1]:\\n\", arr)\n",
    "print(\"\\nMEAN ± STD:\")\n",
    "print(\"MAE   :\", f\"{arr[:,0].mean():.3f} ± {arr[:,0].std():.3f}\")\n",
    "print(\"RMSE  :\", f\"{arr[:,1].mean():.3f} ± {arr[:,1].std():.3f}\")\n",
    "print(\"F1    :\", f\"{arr[:,2].mean():.3f} ± {arr[:,2].std():.3f}\")"
   ]
  },
  {
   "cell_type": "markdown",
   "id": "bc34d680",
   "metadata": {},
   "source": [
    "## 9) Inference helper for a single row\n",
    "Use a dict with the same fields as training to test predictions."
   ]
  },
  {
   "cell_type": "code",
   "execution_count": 17,
   "id": "80cb5fc7",
   "metadata": {},
   "outputs": [
    {
     "data": {
      "text/plain": [
       "(28.128772735595703,\n",
       " 'ULTRASOFT',\n",
       " {'ULTRASOFT': 0.6377049684524536,\n",
       "  'SUPERSOFT': 0.13823308050632477,\n",
       "  'MEDIUM': 0.09464775025844574})"
      ]
     },
     "execution_count": 17,
     "metadata": {},
     "output_type": "execute_result"
    }
   ],
   "source": [
    "def predict_row(row_dict):\n",
    "    X_row = pd.DataFrame([row_dict])[CATS + NUMS]\n",
    "    X_proc = pre.transform(X_row).astype('float32')\n",
    "    Xt = torch.tensor(X_proc)\n",
    "    model.eval();\n",
    "    with torch.no_grad(): y1, y2 = model(Xt)\n",
    "    y1_val = float(y1.numpy()[0])\n",
    "    pr = torch.softmax(y2, dim=1).numpy()[0]\n",
    "    top = int(pr.argmax())\n",
    "    top3 = {y2_classes[i]: float(pr[i]) for i in pr.argsort()[-3:][::-1]}\n",
    "    return y1_val, y2_classes[top], top3\n",
    "\n",
    "# Example usage\n",
    "example = val_df.iloc[0][CATS + NUMS].to_dict()\n",
    "predict_row(example)"
   ]
  },
  {
   "cell_type": "code",
   "execution_count": null,
   "id": "eefe46b5-1c6e-405d-af96-64ccb7b48d41",
   "metadata": {},
   "outputs": [],
   "source": []
  }
 ],
 "metadata": {
  "kernelspec": {
   "display_name": "Python 3 (ipykernel)",
   "language": "python",
   "name": "python3"
  },
  "language_info": {
   "codemirror_mode": {
    "name": "ipython",
    "version": 3
   },
   "file_extension": ".py",
   "mimetype": "text/x-python",
   "name": "python",
   "nbconvert_exporter": "python",
   "pygments_lexer": "ipython3",
   "version": "3.12.4"
  }
 },
 "nbformat": 4,
 "nbformat_minor": 5
}
